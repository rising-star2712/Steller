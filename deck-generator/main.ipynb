{
  "cells": [
    {
      "cell_type": "markdown",
      "metadata": {
        "id": "khndV6w25AZg"
      },
      "source": [
        "### Import requirements"
      ]
    },
    {
      "cell_type": "code",
      "execution_count": null,
      "metadata": {
        "id": "D4z9KZTX_V_d"
      },
      "outputs": [],
      "source": [
        "from functions.main_functions import *"
      ]
    },
    {
      "cell_type": "code",
      "execution_count": null,
      "metadata": {
        "id": "Wq_NqgEtxXuH"
      },
      "outputs": [],
      "source": [
        "#@markdown ###### Enter a topic:\n",
        "topic=\"Organic Farming\" #@param {type:\"string\"}\n",
        "#@markdown ###### Select a style:\n",
        "Style = \"Style 2\" #@param [\"Style 1\",\"Style 2\",\"Style 3\"] {type:\"string\"}\n",
        "#@markdown ###### Select a number of slides\n",
        "Number_of_Slides=5 #@param {type:\"slider\", min:2, max:7, step:1}\n",
        "#@markdown ###### Select the image source\n",
        "image_source=\"Pexel\"#@param [\"Pexel\",\"Unsplash\",\"Stable Diffusion\"] {type:\"string\"}\n",
        "#@markdown ###### Select a Stable diffusion model if image source is \"Stable diffusion\"\n",
        "sd_model= \"Lykon/DreamShaper\" #@param {type:\"string\"}\n",
        "#@markdown ###### Select an Openai Model:\n",
        "engine=\"gpt-3.5-turbo\" #@param [\"gpt-4-32k-0613\",\"gpt-4-32k\",\"gpt-4-0613\",\"gpt-4\",\"gpt-3.5-turbo-16k-0613\",\"gpt-3.5-turbo-0613\",\"gpt-3.5-turbo-16k\",\"gpt-3.5-turbo\",\"text-ada-001\",\"text-babbage-001\",\"text-curie-001\",\"text-davinci-002\",\"text-davinci-003\"]{type:\"string\"}\n",
        "#@markdown ###### Enter your OpenAi api key here:\n",
        "api_key=''#@param {type:\"string\"}\n",
        "\n",
        "text_models=[\"text-ada-001\",\"text-babbage-001\",\"text-curie-001\",\"text-davinci-002\",\"text-davinci-003\"]\n",
        "chat_models=[\"gpt-4-32k-0613\",\"gpt-4-32k\",\"gpt-4-0613\",\"gpt-4\",\"gpt-3.5-turbo-16k-0613\",\"gpt-3.5-turbo-0613\",\"gpt-3.5-turbo-16k\",\"gpt-3.5-turbo\"]\n",
        "styles={\"Style 1\":\"style1.css\",\"Style 2\":\"style2.css\",\"Style 3\":\"style3.css\"}\n",
        "type_of_slides=[\"info-1\", \"info-2\",\"img\", \"bullets\"]\n",
        "\n",
        "use_chat = False if engine in text_models else True\n",
        "\n",
        "style=styles[Style]\n",
        "slides = [\"slide-1:title\"]\n",
        "\n",
        "nums=Number_of_Slides-(Number_of_Slides//2)\n",
        "slides.extend([f\"slide-{i+2}:{type_of_slides[0:2][int(random.randint(0,1))]}\" for i in range(nums)])\n",
        "slides.extend([f\"slide-{i+nums+2}:{type_of_slides[2:4][int(random.randint(0,1))]}\" for i in range(Number_of_Slides-(nums)-1)])"
      ]
    },
    {
      "cell_type": "code",
      "execution_count": null,
      "metadata": {
        "id": "KTtzqV4P_cXL"
      },
      "outputs": [],
      "source": [
        "bg_image=image_to_base64(get_background(style))\n",
        "content= generate_content(slides,topic,engine,api_key,use_chat)"
      ]
    },
    {
      "cell_type": "markdown",
      "metadata": {
        "id": "2tHMpiKgX5ZD"
      },
      "source": [
        "### Make sure that the `content` is not `None`.\n",
        "#### At times openai api returns an error due to various reasons,`re-run` the above cell till `content` is not `None`."
      ]
    },
    {
      "cell_type": "code",
      "execution_count": null,
      "metadata": {
        "colab": {
          "base_uri": "https://localhost:8080/"
        },
        "id": "f863hHhMI0rg",
        "outputId": "400b07e4-8d55-4630-915d-3cc06a9965f1"
      },
      "outputs": [],
      "source": [
        "print(content)"
      ]
    },
    {
      "cell_type": "code",
      "execution_count": null,
      "metadata": {
        "colab": {
          "base_uri": "https://localhost:8080/"
        },
        "id": "SzsGVniDD3UA",
        "outputId": "ac7d9bf5-6d23-4b22-964c-b6e1768b4ab5"
      },
      "outputs": [],
      "source": [
        "html=generate_template(style, slides,content,bg_image,image_source).render()"
      ]
    },
    {
      "cell_type": "markdown",
      "metadata": {
        "id": "O1aKlOXAZdBF"
      },
      "source": [
        "##### This cell may return an error but it can be ignore, the pdf can be seen in the left panel"
      ]
    },
    {
      "cell_type": "code",
      "execution_count": null,
      "metadata": {
        "id": "HeNMHRRcIQ7T"
      },
      "outputs": [],
      "source": [
        "render_pdfkit(html,topic.replace(\" \",\"-\")+\".pdf\")"
      ]
    },
    {
      "cell_type": "code",
      "execution_count": null,
      "metadata": {},
      "outputs": [],
      "source": []
    }
  ],
  "metadata": {
    "accelerator": "GPU",
    "colab": {
      "gpuType": "T4",
      "provenance": []
    },
    "kernelspec": {
      "display_name": "Python 3",
      "name": "python3"
    },
    "language_info": {
      "codemirror_mode": {
        "name": "ipython",
        "version": 3
      },
      "file_extension": ".py",
      "mimetype": "text/x-python",
      "name": "python",
      "nbconvert_exporter": "python",
      "pygments_lexer": "ipython3",
      "version": "3.10.9"
    }
  },
  "nbformat": 4,
  "nbformat_minor": 0
}
